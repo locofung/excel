{
 "cells": [
  {
   "cell_type": "markdown",
   "id": "3abed5e9",
   "metadata": {},
   "source": [
    "# 1.1 array concept"
   ]
  },
  {
   "cell_type": "code",
   "execution_count": 2,
   "id": "200d8927",
   "metadata": {},
   "outputs": [],
   "source": [
    "import numpy as np"
   ]
  },
  {
   "cell_type": "code",
   "execution_count": null,
   "id": "c3240d57",
   "metadata": {},
   "outputs": [],
   "source": []
  },
  {
   "cell_type": "code",
   "execution_count": null,
   "id": "094d434e",
   "metadata": {},
   "outputs": [],
   "source": []
  },
  {
   "cell_type": "code",
   "execution_count": 3,
   "id": "d8599406",
   "metadata": {},
   "outputs": [
    {
     "name": "stdout",
     "output_type": "stream",
     "text": [
      "[[1. 2. 3.]\n",
      " [4. 5. 6.]]\n",
      "<class 'numpy.ndarray'>\n",
      "float64\n"
     ]
    }
   ],
   "source": [
    "array2 = np.array([[1.0, 2.0, 3.0], [4.0, 5.0, 6.0]])\n",
    "print(array2)\n",
    "print(type(array2))  # <class 'numpy.ndarray'>\n",
    "print(array2.dtype)  # float64"
   ]
  },
  {
   "cell_type": "code",
   "execution_count": 5,
   "id": "fddf8069",
   "metadata": {},
   "outputs": [
    {
     "name": "stdout",
     "output_type": "stream",
     "text": [
      "[[2. 3. 4.]\n",
      " [5. 6. 7.]]\n",
      "\n",
      "[[2. 5.]\n",
      " [3. 6.]\n",
      " [4. 7.]]\n"
     ]
    }
   ],
   "source": [
    "a3 = array2 + 1\n",
    "print(a3)\n",
    "print()\n",
    "print(a3.transpose()) "
   ]
  },
  {
   "cell_type": "code",
   "execution_count": 7,
   "id": "adcc559f",
   "metadata": {},
   "outputs": [
    {
     "name": "stdout",
     "output_type": "stream",
     "text": [
      "[ 7.  9. 11.]\n",
      "\n",
      "[[1. 2. 3.]\n",
      " [4. 5. 6.]]\n",
      "\n",
      "[ 6. 15.]\n"
     ]
    }
   ],
   "source": [
    "import math\n",
    "#a3 has transpose()\n",
    "sum_1 = a3.sum(axis=0)  #sum by column\n",
    "print(sum_1)\n",
    "print()\n",
    "print(array2)\n",
    "print()\n",
    "print(array2.sum(axis=1)) #sum by row"
   ]
  },
  {
   "cell_type": "markdown",
   "id": "dcfb2de2",
   "metadata": {},
   "source": [
    "# 1.2 nd-array selectioin"
   ]
  },
  {
   "cell_type": "markdown",
   "id": "41959c15",
   "metadata": {},
   "source": [
    "syntax\n",
    "1.crete array from list\n",
    "a1=np.array([],[])\n",
    "\n",
    "2.array selection\n",
    "=array[row,column]\n",
    "\n",
    "row=start:end:step\n",
    " \n"
   ]
  },
  {
   "cell_type": "code",
   "execution_count": 28,
   "id": "d6e11161",
   "metadata": {},
   "outputs": [
    {
     "name": "stdout",
     "output_type": "stream",
     "text": [
      "a1 is :  [ 10 100 100]\n",
      "[[1 2 3]\n",
      " [4 5 6]]\n"
     ]
    }
   ],
   "source": [
    "a1=np.array([10,100,100])\n",
    "np.array([[1,2,3],[4,5,6]])\n",
    "a3=np.array([[1,2,3,4],[5,6,7,8]])\n",
    "\n",
    "print('a1 is : ', a1)\n",
    "print(a2)"
   ]
  },
  {
   "cell_type": "code",
   "execution_count": 13,
   "id": "a90f3512",
   "metadata": {},
   "outputs": [
    {
     "name": "stdout",
     "output_type": "stream",
     "text": [
      "1\n"
     ]
    }
   ],
   "source": [
    "print(a2[0,0])"
   ]
  },
  {
   "cell_type": "code",
   "execution_count": 18,
   "id": "1f07202f",
   "metadata": {},
   "outputs": [
    {
     "name": "stdout",
     "output_type": "stream",
     "text": [
      "[[2 3]\n",
      " [5 6]]\n"
     ]
    }
   ],
   "source": [
    "\"\"\"\n",
    "2 3\n",
    "5 6\n",
    "\"\"\"\n",
    "print(a2[:,1:4]) #no out of index concern"
   ]
  },
  {
   "cell_type": "code",
   "execution_count": 20,
   "id": "7a687c66",
   "metadata": {},
   "outputs": [
    {
     "name": "stdout",
     "output_type": "stream",
     "text": [
      "[[2]\n",
      " [5]]\n"
     ]
    }
   ],
   "source": [
    "\"\"\"\n",
    "2\n",
    "5\n",
    "\"\"\"\n",
    "print(a2[:,1:2])"
   ]
  },
  {
   "cell_type": "code",
   "execution_count": 23,
   "id": "12711af6",
   "metadata": {},
   "outputs": [
    {
     "name": "stdout",
     "output_type": "stream",
     "text": [
      "[[4 5]]\n"
     ]
    }
   ],
   "source": [
    "\"\"\"\n",
    "4,5\n",
    "\"\"\"\n",
    "print(a2[1:2,0:2])"
   ]
  },
  {
   "cell_type": "code",
   "execution_count": 27,
   "id": "3255b30c",
   "metadata": {},
   "outputs": [
    {
     "name": "stdout",
     "output_type": "stream",
     "text": [
      "[[1 2 3]]\n"
     ]
    }
   ],
   "source": [
    "\"\"\"\n",
    "1,2,3\n",
    "\"\"\"\n",
    "print(a2[0:1,:])"
   ]
  },
  {
   "cell_type": "code",
   "execution_count": 31,
   "id": "fb91d174",
   "metadata": {},
   "outputs": [
    {
     "name": "stdout",
     "output_type": "stream",
     "text": [
      "1 6\n"
     ]
    }
   ],
   "source": [
    "\"\"\"\n",
    "1,6\n",
    "\"\"\"\n",
    "print(a2[0][0],a2[1][2])"
   ]
  },
  {
   "cell_type": "markdown",
   "id": "d1f594e4",
   "metadata": {},
   "source": [
    "# 1.3 create array"
   ]
  },
  {
   "cell_type": "markdown",
   "id": "effdbe06",
   "metadata": {},
   "source": [
    "#numpy.arange([start, ]stop, [step, ], dtype=None) \n"
   ]
  },
  {
   "cell_type": "code",
   "execution_count": 32,
   "id": "13b043f2",
   "metadata": {},
   "outputs": [
    {
     "data": {
      "text/plain": [
       "array([1, 4, 7])"
      ]
     },
     "execution_count": 32,
     "metadata": {},
     "output_type": "execute_result"
    }
   ],
   "source": [
    "np.arange(start=1, stop=10, step=3)"
   ]
  },
  {
   "cell_type": "code",
   "execution_count": 36,
   "id": "8cc74d81",
   "metadata": {},
   "outputs": [],
   "source": [
    "x = np.arange(1, 5, 2)\n",
    "y = np.arange(2, 6, 2)\n",
    "X,Y = np.meshgrid(x,y)"
   ]
  },
  {
   "cell_type": "code",
   "execution_count": 37,
   "id": "8be7157e",
   "metadata": {},
   "outputs": [
    {
     "name": "stdout",
     "output_type": "stream",
     "text": [
      "[[1 3]\n",
      " [1 3]] [[2 2]\n",
      " [4 4]]\n"
     ]
    }
   ],
   "source": [
    "print(X,Y)"
   ]
  },
  {
   "cell_type": "code",
   "execution_count": 46,
   "id": "15d86a3f",
   "metadata": {},
   "outputs": [
    {
     "data": {
      "text/plain": [
       "array([[1, 3],\n",
       "       [2, 4]])"
      ]
     },
     "execution_count": 46,
     "metadata": {},
     "output_type": "execute_result"
    }
   ],
   "source": [
    "a5=np.array([np.arange(1,5,2),np.arange(2,6,2)]) #must be systematic\n",
    "a5"
   ]
  },
  {
   "cell_type": "code",
   "execution_count": 49,
   "id": "7fcd3991",
   "metadata": {},
   "outputs": [
    {
     "data": {
      "text/plain": [
       "array([[2, 3, 4],\n",
       "       [5, 6, 7]])"
      ]
     },
     "execution_count": 49,
     "metadata": {},
     "output_type": "execute_result"
    }
   ],
   "source": [
    "\"\"\"\n",
    "use arange().reshap(row_no, col_no) #將1d 扭到2d\n",
    "\"\"\"\n",
    "a6=np.arange(2,8,1).reshape(2,3)\n",
    "a6"
   ]
  },
  {
   "cell_type": "markdown",
   "id": "1167896a",
   "metadata": {},
   "source": [
    "# 2.pandas "
   ]
  },
  {
   "cell_type": "code",
   "execution_count": 50,
   "id": "53f16ab3",
   "metadata": {},
   "outputs": [],
   "source": [
    "import pandas as pd"
   ]
  },
  {
   "cell_type": "markdown",
   "id": "e3335e33",
   "metadata": {},
   "source": [
    "1. 可以 list/dict 來generate df\n",
    "2.dict,自帶index/column 識別,已經按column 分，name,age,\n",
    "  list 按 row 分，customer A, customer B\n",
    "data = {'Name':['Jai', 'Princi', 'Gaurav', 'Anuj'],\n",
    "        'Age':[27, 24, 22, 32],\n",
    "        'Address':['Delhi', 'Kanpur', 'Allahabad', 'Kannauj'],\n",
    "        'Qualification':['Msc', 'MA', 'MCA', 'Phd']}\n",
    " df = pd.DataFrame(data)\n",
    " print(df[['Name', 'Qualification']])\n"
   ]
  },
  {
   "cell_type": "code",
   "execution_count": 51,
   "id": "80d0e222",
   "metadata": {},
   "outputs": [
    {
     "data": {
      "text/html": [
       "<div>\n",
       "<style scoped>\n",
       "    .dataframe tbody tr th:only-of-type {\n",
       "        vertical-align: middle;\n",
       "    }\n",
       "\n",
       "    .dataframe tbody tr th {\n",
       "        vertical-align: top;\n",
       "    }\n",
       "\n",
       "    .dataframe thead th {\n",
       "        text-align: right;\n",
       "    }\n",
       "</style>\n",
       "<table border=\"1\" class=\"dataframe\">\n",
       "  <thead>\n",
       "    <tr style=\"text-align: right;\">\n",
       "      <th></th>\n",
       "      <th>user_id</th>\n",
       "      <th>name</th>\n",
       "      <th>age</th>\n",
       "      <th>country</th>\n",
       "      <th>score</th>\n",
       "      <th>continent</th>\n",
       "    </tr>\n",
       "  </thead>\n",
       "  <tbody>\n",
       "    <tr>\n",
       "      <th>0</th>\n",
       "      <td>1001</td>\n",
       "      <td>Mark</td>\n",
       "      <td>55</td>\n",
       "      <td>Italy</td>\n",
       "      <td>4.5</td>\n",
       "      <td>Europe</td>\n",
       "    </tr>\n",
       "    <tr>\n",
       "      <th>1</th>\n",
       "      <td>1000</td>\n",
       "      <td>John</td>\n",
       "      <td>33</td>\n",
       "      <td>USA</td>\n",
       "      <td>6.7</td>\n",
       "      <td>America</td>\n",
       "    </tr>\n",
       "    <tr>\n",
       "      <th>2</th>\n",
       "      <td>1002</td>\n",
       "      <td>Tim</td>\n",
       "      <td>41</td>\n",
       "      <td>USA</td>\n",
       "      <td>3.9</td>\n",
       "      <td>America</td>\n",
       "    </tr>\n",
       "    <tr>\n",
       "      <th>3</th>\n",
       "      <td>1003</td>\n",
       "      <td>Jenny</td>\n",
       "      <td>12</td>\n",
       "      <td>Germany</td>\n",
       "      <td>9.0</td>\n",
       "      <td>Europe</td>\n",
       "    </tr>\n",
       "  </tbody>\n",
       "</table>\n",
       "</div>"
      ],
      "text/plain": [
       "   user_id   name  age  country  score continent\n",
       "0     1001   Mark   55    Italy    4.5    Europe\n",
       "1     1000   John   33      USA    6.7   America\n",
       "2     1002    Tim   41      USA    3.9   America\n",
       "3     1003  Jenny   12  Germany    9.0    Europe"
      ]
     },
     "execution_count": 51,
     "metadata": {},
     "output_type": "execute_result"
    }
   ],
   "source": [
    "f1=pd.read_excel(r'C:\\Users\\fengs\\Desktop\\spyder_folder\\learning_scr\\xl\\course_participants.xlsx')\n",
    "f1 #htmal format table"
   ]
  },
  {
   "cell_type": "markdown",
   "id": "d0c6649c",
   "metadata": {},
   "source": [
    "## 2.1 df from dict"
   ]
  },
  {
   "cell_type": "code",
   "execution_count": 52,
   "id": "cd2e0ef8",
   "metadata": {},
   "outputs": [
    {
     "name": "stdout",
     "output_type": "stream",
     "text": [
      "     Name Qualification\n",
      "0     Jai           Msc\n",
      "1  Princi            MA\n",
      "2  Gaurav           MCA\n",
      "3    Anuj           Phd\n"
     ]
    }
   ],
   "source": [
    "data = {'Name':['Jai', 'Princi', 'Gaurav', 'Anuj'],\n",
    "        'Age':[27, 24, 22, 32],\n",
    "        'Address':['Delhi', 'Kanpur', 'Allahabad', 'Kannauj'],\n",
    "        'Qualification':['Msc', 'MA', 'MCA', 'Phd']}\n",
    "\n",
    "df = pd.DataFrame(data)\n",
    "\n",
    "print(df[['Name', 'Qualification']])"
   ]
  },
  {
   "cell_type": "markdown",
   "id": "e63b8a5f",
   "metadata": {},
   "source": [
    "## 2.2 df from list"
   ]
  },
  {
   "cell_type": "markdown",
   "id": "6fa751b4",
   "metadata": {},
   "source": [
    "use zip()"
   ]
  },
  {
   "cell_type": "code",
   "execution_count": 53,
   "id": "406018bc",
   "metadata": {},
   "outputs": [
    {
     "data": {
      "text/html": [
       "<div>\n",
       "<style scoped>\n",
       "    .dataframe tbody tr th:only-of-type {\n",
       "        vertical-align: middle;\n",
       "    }\n",
       "\n",
       "    .dataframe tbody tr th {\n",
       "        vertical-align: top;\n",
       "    }\n",
       "\n",
       "    .dataframe thead th {\n",
       "        text-align: right;\n",
       "    }\n",
       "</style>\n",
       "<table border=\"1\" class=\"dataframe\">\n",
       "  <thead>\n",
       "    <tr style=\"text-align: right;\">\n",
       "      <th></th>\n",
       "      <th>Name</th>\n",
       "      <th>val</th>\n",
       "    </tr>\n",
       "  </thead>\n",
       "  <tbody>\n",
       "    <tr>\n",
       "      <th>0</th>\n",
       "      <td>Geeks</td>\n",
       "      <td>11</td>\n",
       "    </tr>\n",
       "    <tr>\n",
       "      <th>1</th>\n",
       "      <td>For</td>\n",
       "      <td>22</td>\n",
       "    </tr>\n",
       "    <tr>\n",
       "      <th>2</th>\n",
       "      <td>Geeks</td>\n",
       "      <td>33</td>\n",
       "    </tr>\n",
       "    <tr>\n",
       "      <th>3</th>\n",
       "      <td>is</td>\n",
       "      <td>44</td>\n",
       "    </tr>\n",
       "    <tr>\n",
       "      <th>4</th>\n",
       "      <td>portal</td>\n",
       "      <td>55</td>\n",
       "    </tr>\n",
       "    <tr>\n",
       "      <th>5</th>\n",
       "      <td>for</td>\n",
       "      <td>66</td>\n",
       "    </tr>\n",
       "    <tr>\n",
       "      <th>6</th>\n",
       "      <td>Geeks</td>\n",
       "      <td>77</td>\n",
       "    </tr>\n",
       "  </tbody>\n",
       "</table>\n",
       "</div>"
      ],
      "text/plain": [
       "     Name  val\n",
       "0   Geeks   11\n",
       "1     For   22\n",
       "2   Geeks   33\n",
       "3      is   44\n",
       "4  portal   55\n",
       "5     for   66\n",
       "6   Geeks   77"
      ]
     },
     "execution_count": 53,
     "metadata": {},
     "output_type": "execute_result"
    }
   ],
   "source": [
    "lst = ['Geeks', 'For', 'Geeks', 'is', 'portal', 'for', 'Geeks']\n",
    "lst2 = [11, 22, 33, 44, 55, 66, 77]\n",
    "df3 = pd.DataFrame(list(zip(lst, lst2)),\n",
    "               columns =['Name', 'val'])\n",
    "df3"
   ]
  },
  {
   "cell_type": "markdown",
   "id": "c819acd2",
   "metadata": {},
   "source": [
    "use dataframe()"
   ]
  },
  {
   "cell_type": "code",
   "execution_count": 62,
   "id": "d0f42732",
   "metadata": {},
   "outputs": [
    {
     "data": {
      "text/html": [
       "<div>\n",
       "<style scoped>\n",
       "    .dataframe tbody tr th:only-of-type {\n",
       "        vertical-align: middle;\n",
       "    }\n",
       "\n",
       "    .dataframe tbody tr th {\n",
       "        vertical-align: top;\n",
       "    }\n",
       "\n",
       "    .dataframe thead th {\n",
       "        text-align: right;\n",
       "    }\n",
       "</style>\n",
       "<table border=\"1\" class=\"dataframe\">\n",
       "  <thead>\n",
       "    <tr style=\"text-align: right;\">\n",
       "      <th></th>\n",
       "      <th>name</th>\n",
       "      <th>age</th>\n",
       "      <th>country</th>\n",
       "      <th>score</th>\n",
       "      <th>continent</th>\n",
       "    </tr>\n",
       "  </thead>\n",
       "  <tbody>\n",
       "    <tr>\n",
       "      <th>1001</th>\n",
       "      <td>Mark</td>\n",
       "      <td>55</td>\n",
       "      <td>Italy</td>\n",
       "      <td>4.5</td>\n",
       "      <td>Europe</td>\n",
       "    </tr>\n",
       "    <tr>\n",
       "      <th>1000</th>\n",
       "      <td>John</td>\n",
       "      <td>33</td>\n",
       "      <td>USA</td>\n",
       "      <td>6.7</td>\n",
       "      <td>America</td>\n",
       "    </tr>\n",
       "    <tr>\n",
       "      <th>1002</th>\n",
       "      <td>Tim</td>\n",
       "      <td>41</td>\n",
       "      <td>USA</td>\n",
       "      <td>3.9</td>\n",
       "      <td>America</td>\n",
       "    </tr>\n",
       "    <tr>\n",
       "      <th>1003</th>\n",
       "      <td>Jenny</td>\n",
       "      <td>12</td>\n",
       "      <td>Germany</td>\n",
       "      <td>9.0</td>\n",
       "      <td>Europe</td>\n",
       "    </tr>\n",
       "  </tbody>\n",
       "</table>\n",
       "</div>"
      ],
      "text/plain": [
       "       name  age  country  score continent\n",
       "1001   Mark   55    Italy    4.5    Europe\n",
       "1000   John   33      USA    6.7   America\n",
       "1002    Tim   41      USA    3.9   America\n",
       "1003  Jenny   12  Germany    9.0    Europe"
      ]
     },
     "execution_count": 62,
     "metadata": {},
     "output_type": "execute_result"
    }
   ],
   "source": [
    "data_5=[[\"Mark\", 55, \"Italy\", 4.5, \"Europe\"],\n",
    "[\"John\", 33, \"USA\", 6.7, \"America\"],\n",
    "[\"Tim\", 41, \"USA\", 3.9, \"America\"],\n",
    "[\"Jenny\", 12, \"Germany\", 9.0, \"Europe\"]]\n",
    "\n",
    "df4= pd.DataFrame(data=data_5,\n",
    "                  columns=[\"name\", \"age\", \"country\",\"score\", \"continent\"], #add header\n",
    "                  index=[1001, 1000, 1002, 1003]\n",
    "                 )\n",
    "df4"
   ]
  },
  {
   "cell_type": "code",
   "execution_count": 55,
   "id": "68fa6fb4",
   "metadata": {},
   "outputs": [
    {
     "name": "stdout",
     "output_type": "stream",
     "text": [
      "<class 'pandas.core.frame.DataFrame'>\n",
      "Int64Index: 4 entries, 1001 to 1003\n",
      "Data columns (total 5 columns):\n",
      " #   Column     Non-Null Count  Dtype  \n",
      "---  ------     --------------  -----  \n",
      " 0   name       4 non-null      object \n",
      " 1   age        4 non-null      int64  \n",
      " 2   country    4 non-null      object \n",
      " 3   score      4 non-null      float64\n",
      " 4   continent  4 non-null      object \n",
      "dtypes: float64(1), int64(1), object(3)\n",
      "memory usage: 192.0+ bytes\n",
      "None\n"
     ]
    }
   ],
   "source": [
    "print(df4.info())"
   ]
  },
  {
   "cell_type": "code",
   "execution_count": 57,
   "id": "be38f282",
   "metadata": {},
   "outputs": [
    {
     "data": {
      "text/plain": [
       "Int64Index([1001, 1000, 1002, 1003], dtype='int64')"
      ]
     },
     "execution_count": 57,
     "metadata": {},
     "output_type": "execute_result"
    }
   ],
   "source": [
    "df4.index"
   ]
  },
  {
   "cell_type": "code",
   "execution_count": 58,
   "id": "25b8dfbd",
   "metadata": {},
   "outputs": [
    {
     "data": {
      "text/html": [
       "<div>\n",
       "<style scoped>\n",
       "    .dataframe tbody tr th:only-of-type {\n",
       "        vertical-align: middle;\n",
       "    }\n",
       "\n",
       "    .dataframe tbody tr th {\n",
       "        vertical-align: top;\n",
       "    }\n",
       "\n",
       "    .dataframe thead th {\n",
       "        text-align: right;\n",
       "    }\n",
       "</style>\n",
       "<table border=\"1\" class=\"dataframe\">\n",
       "  <thead>\n",
       "    <tr style=\"text-align: right;\">\n",
       "      <th></th>\n",
       "      <th>name</th>\n",
       "      <th>age</th>\n",
       "      <th>country</th>\n",
       "      <th>score</th>\n",
       "      <th>continent</th>\n",
       "    </tr>\n",
       "    <tr>\n",
       "      <th>row_id</th>\n",
       "      <th></th>\n",
       "      <th></th>\n",
       "      <th></th>\n",
       "      <th></th>\n",
       "      <th></th>\n",
       "    </tr>\n",
       "  </thead>\n",
       "  <tbody>\n",
       "    <tr>\n",
       "      <th>1001</th>\n",
       "      <td>Mark</td>\n",
       "      <td>55</td>\n",
       "      <td>Italy</td>\n",
       "      <td>4.5</td>\n",
       "      <td>Europe</td>\n",
       "    </tr>\n",
       "    <tr>\n",
       "      <th>1000</th>\n",
       "      <td>John</td>\n",
       "      <td>33</td>\n",
       "      <td>USA</td>\n",
       "      <td>6.7</td>\n",
       "      <td>America</td>\n",
       "    </tr>\n",
       "    <tr>\n",
       "      <th>1002</th>\n",
       "      <td>Tim</td>\n",
       "      <td>41</td>\n",
       "      <td>USA</td>\n",
       "      <td>3.9</td>\n",
       "      <td>America</td>\n",
       "    </tr>\n",
       "    <tr>\n",
       "      <th>1003</th>\n",
       "      <td>Jenny</td>\n",
       "      <td>12</td>\n",
       "      <td>Germany</td>\n",
       "      <td>9.0</td>\n",
       "      <td>Europe</td>\n",
       "    </tr>\n",
       "  </tbody>\n",
       "</table>\n",
       "</div>"
      ],
      "text/plain": [
       "         name  age  country  score continent\n",
       "row_id                                      \n",
       "1001     Mark   55    Italy    4.5    Europe\n",
       "1000     John   33      USA    6.7   America\n",
       "1002      Tim   41      USA    3.9   America\n",
       "1003    Jenny   12  Germany    9.0    Europe"
      ]
     },
     "execution_count": 58,
     "metadata": {},
     "output_type": "execute_result"
    }
   ],
   "source": [
    "df4.index.name='row_id'\n",
    "df4"
   ]
  },
  {
   "cell_type": "code",
   "execution_count": 60,
   "id": "72c59329",
   "metadata": {},
   "outputs": [
    {
     "data": {
      "text/html": [
       "<div>\n",
       "<style scoped>\n",
       "    .dataframe tbody tr th:only-of-type {\n",
       "        vertical-align: middle;\n",
       "    }\n",
       "\n",
       "    .dataframe tbody tr th {\n",
       "        vertical-align: top;\n",
       "    }\n",
       "\n",
       "    .dataframe thead th {\n",
       "        text-align: right;\n",
       "    }\n",
       "</style>\n",
       "<table border=\"1\" class=\"dataframe\">\n",
       "  <thead>\n",
       "    <tr style=\"text-align: right;\">\n",
       "      <th></th>\n",
       "      <th>row_id</th>\n",
       "      <th>name</th>\n",
       "      <th>age</th>\n",
       "      <th>country</th>\n",
       "      <th>score</th>\n",
       "      <th>continent</th>\n",
       "    </tr>\n",
       "  </thead>\n",
       "  <tbody>\n",
       "    <tr>\n",
       "      <th>0</th>\n",
       "      <td>1001</td>\n",
       "      <td>Mark</td>\n",
       "      <td>55</td>\n",
       "      <td>Italy</td>\n",
       "      <td>4.5</td>\n",
       "      <td>Europe</td>\n",
       "    </tr>\n",
       "    <tr>\n",
       "      <th>1</th>\n",
       "      <td>1000</td>\n",
       "      <td>John</td>\n",
       "      <td>33</td>\n",
       "      <td>USA</td>\n",
       "      <td>6.7</td>\n",
       "      <td>America</td>\n",
       "    </tr>\n",
       "    <tr>\n",
       "      <th>2</th>\n",
       "      <td>1002</td>\n",
       "      <td>Tim</td>\n",
       "      <td>41</td>\n",
       "      <td>USA</td>\n",
       "      <td>3.9</td>\n",
       "      <td>America</td>\n",
       "    </tr>\n",
       "    <tr>\n",
       "      <th>3</th>\n",
       "      <td>1003</td>\n",
       "      <td>Jenny</td>\n",
       "      <td>12</td>\n",
       "      <td>Germany</td>\n",
       "      <td>9.0</td>\n",
       "      <td>Europe</td>\n",
       "    </tr>\n",
       "  </tbody>\n",
       "</table>\n",
       "</div>"
      ],
      "text/plain": [
       "   row_id   name  age  country  score continent\n",
       "0    1001   Mark   55    Italy    4.5    Europe\n",
       "1    1000   John   33      USA    6.7   America\n",
       "2    1002    Tim   41      USA    3.9   America\n",
       "3    1003  Jenny   12  Germany    9.0    Europe"
      ]
     },
     "execution_count": 60,
     "metadata": {},
     "output_type": "execute_result"
    }
   ],
   "source": [
    "\"\"\"\n",
    "reset index\n",
    "\"\"\"\n",
    "df4.reset_index()\n"
   ]
  },
  {
   "cell_type": "code",
   "execution_count": 61,
   "id": "df0c9563",
   "metadata": {},
   "outputs": [
    {
     "data": {
      "text/html": [
       "<div>\n",
       "<style scoped>\n",
       "    .dataframe tbody tr th:only-of-type {\n",
       "        vertical-align: middle;\n",
       "    }\n",
       "\n",
       "    .dataframe tbody tr th {\n",
       "        vertical-align: top;\n",
       "    }\n",
       "\n",
       "    .dataframe thead th {\n",
       "        text-align: right;\n",
       "    }\n",
       "</style>\n",
       "<table border=\"1\" class=\"dataframe\">\n",
       "  <thead>\n",
       "    <tr style=\"text-align: right;\">\n",
       "      <th></th>\n",
       "      <th>row_id</th>\n",
       "      <th>name</th>\n",
       "      <th>age</th>\n",
       "      <th>score</th>\n",
       "      <th>continent</th>\n",
       "    </tr>\n",
       "    <tr>\n",
       "      <th>country</th>\n",
       "      <th></th>\n",
       "      <th></th>\n",
       "      <th></th>\n",
       "      <th></th>\n",
       "      <th></th>\n",
       "    </tr>\n",
       "  </thead>\n",
       "  <tbody>\n",
       "    <tr>\n",
       "      <th>Italy</th>\n",
       "      <td>1001</td>\n",
       "      <td>Mark</td>\n",
       "      <td>55</td>\n",
       "      <td>4.5</td>\n",
       "      <td>Europe</td>\n",
       "    </tr>\n",
       "    <tr>\n",
       "      <th>USA</th>\n",
       "      <td>1000</td>\n",
       "      <td>John</td>\n",
       "      <td>33</td>\n",
       "      <td>6.7</td>\n",
       "      <td>America</td>\n",
       "    </tr>\n",
       "    <tr>\n",
       "      <th>USA</th>\n",
       "      <td>1002</td>\n",
       "      <td>Tim</td>\n",
       "      <td>41</td>\n",
       "      <td>3.9</td>\n",
       "      <td>America</td>\n",
       "    </tr>\n",
       "    <tr>\n",
       "      <th>Germany</th>\n",
       "      <td>1003</td>\n",
       "      <td>Jenny</td>\n",
       "      <td>12</td>\n",
       "      <td>9.0</td>\n",
       "      <td>Europe</td>\n",
       "    </tr>\n",
       "  </tbody>\n",
       "</table>\n",
       "</div>"
      ],
      "text/plain": [
       "         row_id   name  age  score continent\n",
       "country                                     \n",
       "Italy      1001   Mark   55    4.5    Europe\n",
       "USA        1000   John   33    6.7   America\n",
       "USA        1002    Tim   41    3.9   America\n",
       "Germany    1003  Jenny   12    9.0    Europe"
      ]
     },
     "execution_count": 61,
     "metadata": {},
     "output_type": "execute_result"
    }
   ],
   "source": [
    "\"\"\"\n",
    "reset and take a new index\n",
    "\"\"\"\n",
    "df4.reset_index().set_index('country') #select a column as idx and it will be in 1st col"
   ]
  },
  {
   "cell_type": "code",
   "execution_count": 66,
   "id": "80abd769",
   "metadata": {},
   "outputs": [
    {
     "name": "stdout",
     "output_type": "stream",
     "text": [
      "       name  age  country  score continent\n",
      "1001   Mark   55    Italy    4.5    Europe\n",
      "1000   John   33      USA    6.7   America\n",
      "1002    Tim   41      USA    3.9   America\n",
      "1003  Jenny   12  Germany    9.0    Europe\n"
     ]
    }
   ],
   "source": [
    "\"\"\"\n",
    "use df4 original row_id but modify it\n",
    "\"\"\"\n",
    "print(df4)\n",
    "#df4.reindex([1,2,3,4])"
   ]
  },
  {
   "cell_type": "code",
   "execution_count": 69,
   "id": "38f8a565",
   "metadata": {},
   "outputs": [
    {
     "data": {
      "text/html": [
       "<div>\n",
       "<style scoped>\n",
       "    .dataframe tbody tr th:only-of-type {\n",
       "        vertical-align: middle;\n",
       "    }\n",
       "\n",
       "    .dataframe tbody tr th {\n",
       "        vertical-align: top;\n",
       "    }\n",
       "\n",
       "    .dataframe thead th {\n",
       "        text-align: right;\n",
       "    }\n",
       "</style>\n",
       "<table border=\"1\" class=\"dataframe\">\n",
       "  <thead>\n",
       "    <tr style=\"text-align: right;\">\n",
       "      <th></th>\n",
       "      <th>name</th>\n",
       "      <th>age</th>\n",
       "      <th>country</th>\n",
       "      <th>score</th>\n",
       "      <th>continent</th>\n",
       "    </tr>\n",
       "  </thead>\n",
       "  <tbody>\n",
       "    <tr>\n",
       "      <th>1001</th>\n",
       "      <td>Mark</td>\n",
       "      <td>55</td>\n",
       "      <td>Italy</td>\n",
       "      <td>4.5</td>\n",
       "      <td>Europe</td>\n",
       "    </tr>\n",
       "    <tr>\n",
       "      <th>1000</th>\n",
       "      <td>John</td>\n",
       "      <td>33</td>\n",
       "      <td>USA</td>\n",
       "      <td>6.7</td>\n",
       "      <td>America</td>\n",
       "    </tr>\n",
       "    <tr>\n",
       "      <th>1002</th>\n",
       "      <td>Tim</td>\n",
       "      <td>41</td>\n",
       "      <td>USA</td>\n",
       "      <td>3.9</td>\n",
       "      <td>America</td>\n",
       "    </tr>\n",
       "    <tr>\n",
       "      <th>1003</th>\n",
       "      <td>Jenny</td>\n",
       "      <td>12</td>\n",
       "      <td>Germany</td>\n",
       "      <td>9.0</td>\n",
       "      <td>Europe</td>\n",
       "    </tr>\n",
       "  </tbody>\n",
       "</table>\n",
       "</div>"
      ],
      "text/plain": [
       "       name  age  country  score continent\n",
       "1001   Mark   55    Italy    4.5    Europe\n",
       "1000   John   33      USA    6.7   America\n",
       "1002    Tim   41      USA    3.9   America\n",
       "1003  Jenny   12  Germany    9.0    Europe"
      ]
     },
     "execution_count": 69,
     "metadata": {},
     "output_type": "execute_result"
    }
   ],
   "source": [
    "df4.reindex([1,2,3,4])\n",
    "#and\n"
   ]
  },
  {
   "cell_type": "markdown",
   "id": "b685404c",
   "metadata": {},
   "source": [
    "# 3.panadas application"
   ]
  },
  {
   "cell_type": "raw",
   "id": "71335132",
   "metadata": {},
   "source": [
    "3.1 select:query from DF\n",
    "3.2 data cleansing: replace\n",
    "3.3 join +concate\n",
    "3.4 Plot graph"
   ]
  },
  {
   "cell_type": "markdown",
   "id": "326c2e5c",
   "metadata": {},
   "source": [
    "# 3.1 select DF"
   ]
  },
  {
   "cell_type": "raw",
   "id": "47112b35",
   "metadata": {},
   "source": [
    "~~mainly use loc +iloc(i for integer)\n",
    "1.loc 比較常用，as it is keyword arg,specifying names clearly\n",
    "  iloc is use posiontional arg, not secur if df change frequetly\n",
    "  \n",
    "2.use pokromon data as example\n",
    "\n",
    "3. loc[row_select,col_select]\n",
    "  df1=[2:10,['x','y']]"
   ]
  },
  {
   "attachments": {
    "panda_exp.PNG": {
     "image/png": "[encoded data removed]"
    }
   },
   "cell_type": "markdown",
   "id": "21fc2c17",
   "metadata": {},
   "source": [
    "![panda_exp.PNG](attachment:panda_exp.PNG)"
   ]
  },
  {
   "cell_type": "code",
   "execution_count": 2,
   "id": "49113504",
   "metadata": {},
   "outputs": [],
   "source": [
    "import pandas as pd"
   ]
  },
  {
   "cell_type": "code",
   "execution_count": 3,
   "id": "52668225",
   "metadata": {},
   "outputs": [
    {
     "data": {
      "text/html": [
       "<div>\n",
       "<style scoped>\n",
       "    .dataframe tbody tr th:only-of-type {\n",
       "        vertical-align: middle;\n",
       "    }\n",
       "\n",
       "    .dataframe tbody tr th {\n",
       "        vertical-align: top;\n",
       "    }\n",
       "\n",
       "    .dataframe thead th {\n",
       "        text-align: right;\n",
       "    }\n",
       "</style>\n",
       "<table border=\"1\" class=\"dataframe\">\n",
       "  <thead>\n",
       "    <tr style=\"text-align: right;\">\n",
       "      <th></th>\n",
       "      <th>#</th>\n",
       "      <th>Name</th>\n",
       "      <th>Type 1</th>\n",
       "      <th>Type 2</th>\n",
       "      <th>HP</th>\n",
       "      <th>Attack</th>\n",
       "      <th>Defense</th>\n",
       "      <th>Sp. Atk</th>\n",
       "      <th>Sp. Def</th>\n",
       "      <th>Speed</th>\n",
       "      <th>Generation</th>\n",
       "      <th>Legendary</th>\n",
       "    </tr>\n",
       "  </thead>\n",
       "  <tbody>\n",
       "    <tr>\n",
       "      <th>0</th>\n",
       "      <td>1</td>\n",
       "      <td>Bulbasaur</td>\n",
       "      <td>Grass</td>\n",
       "      <td>Poison</td>\n",
       "      <td>45</td>\n",
       "      <td>49</td>\n",
       "      <td>49</td>\n",
       "      <td>65</td>\n",
       "      <td>65</td>\n",
       "      <td>45</td>\n",
       "      <td>1</td>\n",
       "      <td>False</td>\n",
       "    </tr>\n",
       "    <tr>\n",
       "      <th>1</th>\n",
       "      <td>2</td>\n",
       "      <td>Ivysaur</td>\n",
       "      <td>Grass</td>\n",
       "      <td>Poison</td>\n",
       "      <td>60</td>\n",
       "      <td>62</td>\n",
       "      <td>63</td>\n",
       "      <td>80</td>\n",
       "      <td>80</td>\n",
       "      <td>60</td>\n",
       "      <td>1</td>\n",
       "      <td>False</td>\n",
       "    </tr>\n",
       "    <tr>\n",
       "      <th>2</th>\n",
       "      <td>3</td>\n",
       "      <td>Venusaur</td>\n",
       "      <td>Grass</td>\n",
       "      <td>Poison</td>\n",
       "      <td>80</td>\n",
       "      <td>82</td>\n",
       "      <td>83</td>\n",
       "      <td>100</td>\n",
       "      <td>100</td>\n",
       "      <td>80</td>\n",
       "      <td>1</td>\n",
       "      <td>False</td>\n",
       "    </tr>\n",
       "    <tr>\n",
       "      <th>3</th>\n",
       "      <td>3</td>\n",
       "      <td>VenusaurMega Venusaur</td>\n",
       "      <td>Grass</td>\n",
       "      <td>Poison</td>\n",
       "      <td>80</td>\n",
       "      <td>100</td>\n",
       "      <td>123</td>\n",
       "      <td>122</td>\n",
       "      <td>120</td>\n",
       "      <td>80</td>\n",
       "      <td>1</td>\n",
       "      <td>False</td>\n",
       "    </tr>\n",
       "    <tr>\n",
       "      <th>4</th>\n",
       "      <td>4</td>\n",
       "      <td>Charmander</td>\n",
       "      <td>Fire</td>\n",
       "      <td>NaN</td>\n",
       "      <td>39</td>\n",
       "      <td>52</td>\n",
       "      <td>43</td>\n",
       "      <td>60</td>\n",
       "      <td>50</td>\n",
       "      <td>65</td>\n",
       "      <td>1</td>\n",
       "      <td>False</td>\n",
       "    </tr>\n",
       "    <tr>\n",
       "      <th>...</th>\n",
       "      <td>...</td>\n",
       "      <td>...</td>\n",
       "      <td>...</td>\n",
       "      <td>...</td>\n",
       "      <td>...</td>\n",
       "      <td>...</td>\n",
       "      <td>...</td>\n",
       "      <td>...</td>\n",
       "      <td>...</td>\n",
       "      <td>...</td>\n",
       "      <td>...</td>\n",
       "      <td>...</td>\n",
       "    </tr>\n",
       "    <tr>\n",
       "      <th>795</th>\n",
       "      <td>719</td>\n",
       "      <td>Diancie</td>\n",
       "      <td>Rock</td>\n",
       "      <td>Fairy</td>\n",
       "      <td>50</td>\n",
       "      <td>100</td>\n",
       "      <td>150</td>\n",
       "      <td>100</td>\n",
       "      <td>150</td>\n",
       "      <td>50</td>\n",
       "      <td>6</td>\n",
       "      <td>True</td>\n",
       "    </tr>\n",
       "    <tr>\n",
       "      <th>796</th>\n",
       "      <td>719</td>\n",
       "      <td>DiancieMega Diancie</td>\n",
       "      <td>Rock</td>\n",
       "      <td>Fairy</td>\n",
       "      <td>50</td>\n",
       "      <td>160</td>\n",
       "      <td>110</td>\n",
       "      <td>160</td>\n",
       "      <td>110</td>\n",
       "      <td>110</td>\n",
       "      <td>6</td>\n",
       "      <td>True</td>\n",
       "    </tr>\n",
       "    <tr>\n",
       "      <th>797</th>\n",
       "      <td>720</td>\n",
       "      <td>HoopaHoopa Confined</td>\n",
       "      <td>Psychic</td>\n",
       "      <td>Ghost</td>\n",
       "      <td>80</td>\n",
       "      <td>110</td>\n",
       "      <td>60</td>\n",
       "      <td>150</td>\n",
       "      <td>130</td>\n",
       "      <td>70</td>\n",
       "      <td>6</td>\n",
       "      <td>True</td>\n",
       "    </tr>\n",
       "    <tr>\n",
       "      <th>798</th>\n",
       "      <td>720</td>\n",
       "      <td>HoopaHoopa Unbound</td>\n",
       "      <td>Psychic</td>\n",
       "      <td>Dark</td>\n",
       "      <td>80</td>\n",
       "      <td>160</td>\n",
       "      <td>60</td>\n",
       "      <td>170</td>\n",
       "      <td>130</td>\n",
       "      <td>80</td>\n",
       "      <td>6</td>\n",
       "      <td>True</td>\n",
       "    </tr>\n",
       "    <tr>\n",
       "      <th>799</th>\n",
       "      <td>721</td>\n",
       "      <td>Volcanion</td>\n",
       "      <td>Fire</td>\n",
       "      <td>Water</td>\n",
       "      <td>80</td>\n",
       "      <td>110</td>\n",
       "      <td>120</td>\n",
       "      <td>130</td>\n",
       "      <td>90</td>\n",
       "      <td>70</td>\n",
       "      <td>6</td>\n",
       "      <td>True</td>\n",
       "    </tr>\n",
       "  </tbody>\n",
       "</table>\n",
       "<p>800 rows × 12 columns</p>\n",
       "</div>"
      ],
      "text/plain": [
       "       #                   Name   Type 1  Type 2  HP  Attack  Defense  \\\n",
       "0      1              Bulbasaur    Grass  Poison  45      49       49   \n",
       "1      2                Ivysaur    Grass  Poison  60      62       63   \n",
       "2      3               Venusaur    Grass  Poison  80      82       83   \n",
       "3      3  VenusaurMega Venusaur    Grass  Poison  80     100      123   \n",
       "4      4             Charmander     Fire     NaN  39      52       43   \n",
       "..   ...                    ...      ...     ...  ..     ...      ...   \n",
       "795  719                Diancie     Rock   Fairy  50     100      150   \n",
       "796  719    DiancieMega Diancie     Rock   Fairy  50     160      110   \n",
       "797  720    HoopaHoopa Confined  Psychic   Ghost  80     110       60   \n",
       "798  720     HoopaHoopa Unbound  Psychic    Dark  80     160       60   \n",
       "799  721              Volcanion     Fire   Water  80     110      120   \n",
       "\n",
       "     Sp. Atk  Sp. Def  Speed  Generation  Legendary  \n",
       "0         65       65     45           1      False  \n",
       "1         80       80     60           1      False  \n",
       "2        100      100     80           1      False  \n",
       "3        122      120     80           1      False  \n",
       "4         60       50     65           1      False  \n",
       "..       ...      ...    ...         ...        ...  \n",
       "795      100      150     50           6       True  \n",
       "796      160      110    110           6       True  \n",
       "797      150      130     70           6       True  \n",
       "798      170      130     80           6       True  \n",
       "799      130       90     70           6       True  \n",
       "\n",
       "[800 rows x 12 columns]"
      ]
     },
     "execution_count": 3,
     "metadata": {},
     "output_type": "execute_result"
    }
   ],
   "source": [
    "#read csv\n",
    "df1=pd.read_csv(r'C:\\Users\\fengs\\Desktop\\py_project\\csv_file\\pokemon_data.csv')\n",
    "df1"
   ]
  },
  {
   "cell_type": "code",
   "execution_count": 6,
   "id": "8054bf7c",
   "metadata": {},
   "outputs": [
    {
     "name": "stdout",
     "output_type": "stream",
     "text": [
      "Index(['#', 'Name', 'Type 1', 'Type 2', 'HP', 'Attack', 'Defense', 'Sp. Atk',\n",
      "       'Sp. Def', 'Speed', 'Generation', 'Legendary'],\n",
      "      dtype='object')\n",
      "\n",
      "   #                   Name Type 1  Type 2  HP  Attack  Defense  Sp. Atk  \\\n",
      "0  1              Bulbasaur  Grass  Poison  45      49       49       65   \n",
      "1  2                Ivysaur  Grass  Poison  60      62       63       80   \n",
      "2  3               Venusaur  Grass  Poison  80      82       83      100   \n",
      "3  3  VenusaurMega Venusaur  Grass  Poison  80     100      123      122   \n",
      "\n",
      "   Sp. Def  Speed  Generation  Legendary  \n",
      "0       65     45           1      False  \n",
      "1       80     60           1      False  \n",
      "2      100     80           1      False  \n",
      "3      120     80           1      False          #                 Name   Type 1 Type 2  HP  Attack  Defense  Sp. Atk  \\\n",
      "797  720  HoopaHoopa Confined  Psychic  Ghost  80     110       60      150   \n",
      "798  720   HoopaHoopa Unbound  Psychic   Dark  80     160       60      170   \n",
      "799  721            Volcanion     Fire  Water  80     110      120      130   \n",
      "\n",
      "     Sp. Def  Speed  Generation  Legendary  \n",
      "797      130     70           6       True  \n",
      "798      130     80           6       True  \n",
      "799       90     70           6       True  \n"
     ]
    }
   ],
   "source": [
    "\"\"\"\n",
    "check df basic info\n",
    "\"\"\"\n",
    "print(df1.columns)\n",
    "print()\n",
    "print(df1.head(4),df1.tail(3))"
   ]
  },
  {
   "cell_type": "code",
   "execution_count": 13,
   "id": "9c76c8bf",
   "metadata": {},
   "outputs": [
    {
     "data": {
      "text/html": [
       "<div>\n",
       "<style scoped>\n",
       "    .dataframe tbody tr th:only-of-type {\n",
       "        vertical-align: middle;\n",
       "    }\n",
       "\n",
       "    .dataframe tbody tr th {\n",
       "        vertical-align: top;\n",
       "    }\n",
       "\n",
       "    .dataframe thead th {\n",
       "        text-align: right;\n",
       "    }\n",
       "</style>\n",
       "<table border=\"1\" class=\"dataframe\">\n",
       "  <thead>\n",
       "    <tr style=\"text-align: right;\">\n",
       "      <th></th>\n",
       "      <th>Name</th>\n",
       "      <th>#</th>\n",
       "      <th>Attack</th>\n",
       "    </tr>\n",
       "  </thead>\n",
       "  <tbody>\n",
       "    <tr>\n",
       "      <th>4</th>\n",
       "      <td>Charmander</td>\n",
       "      <td>4</td>\n",
       "      <td>52</td>\n",
       "    </tr>\n",
       "    <tr>\n",
       "      <th>5</th>\n",
       "      <td>Charmeleon</td>\n",
       "      <td>5</td>\n",
       "      <td>64</td>\n",
       "    </tr>\n",
       "    <tr>\n",
       "      <th>6</th>\n",
       "      <td>Charizard</td>\n",
       "      <td>6</td>\n",
       "      <td>84</td>\n",
       "    </tr>\n",
       "    <tr>\n",
       "      <th>7</th>\n",
       "      <td>CharizardMega Charizard X</td>\n",
       "      <td>6</td>\n",
       "      <td>130</td>\n",
       "    </tr>\n",
       "    <tr>\n",
       "      <th>8</th>\n",
       "      <td>CharizardMega Charizard Y</td>\n",
       "      <td>6</td>\n",
       "      <td>104</td>\n",
       "    </tr>\n",
       "    <tr>\n",
       "      <th>9</th>\n",
       "      <td>Squirtle</td>\n",
       "      <td>7</td>\n",
       "      <td>48</td>\n",
       "    </tr>\n",
       "  </tbody>\n",
       "</table>\n",
       "</div>"
      ],
      "text/plain": [
       "                        Name  #  Attack\n",
       "4                 Charmander  4      52\n",
       "5                 Charmeleon  5      64\n",
       "6                  Charizard  6      84\n",
       "7  CharizardMega Charizard X  6     130\n",
       "8  CharizardMega Charizard Y  6     104\n",
       "9                   Squirtle  7      48"
      ]
     },
     "execution_count": 13,
     "metadata": {},
     "output_type": "execute_result"
    }
   ],
   "source": [
    "df3=df1.loc[4:9,[\"Name\",\"#\",\"Attack\"]]\n",
    "#row_select 不用 []\n",
    "df3"
   ]
  },
  {
   "cell_type": "code",
   "execution_count": 14,
   "id": "d85b46ba",
   "metadata": {},
   "outputs": [
    {
     "data": {
      "text/html": [
       "<div>\n",
       "<style scoped>\n",
       "    .dataframe tbody tr th:only-of-type {\n",
       "        vertical-align: middle;\n",
       "    }\n",
       "\n",
       "    .dataframe tbody tr th {\n",
       "        vertical-align: top;\n",
       "    }\n",
       "\n",
       "    .dataframe thead th {\n",
       "        text-align: right;\n",
       "    }\n",
       "</style>\n",
       "<table border=\"1\" class=\"dataframe\">\n",
       "  <thead>\n",
       "    <tr style=\"text-align: right;\">\n",
       "      <th></th>\n",
       "      <th>name</th>\n",
       "      <th>rank</th>\n",
       "      <th>attack</th>\n",
       "    </tr>\n",
       "  </thead>\n",
       "  <tbody>\n",
       "    <tr>\n",
       "      <th>4</th>\n",
       "      <td>Charmander</td>\n",
       "      <td>4</td>\n",
       "      <td>52</td>\n",
       "    </tr>\n",
       "    <tr>\n",
       "      <th>5</th>\n",
       "      <td>Charmeleon</td>\n",
       "      <td>5</td>\n",
       "      <td>64</td>\n",
       "    </tr>\n",
       "    <tr>\n",
       "      <th>6</th>\n",
       "      <td>Charizard</td>\n",
       "      <td>6</td>\n",
       "      <td>84</td>\n",
       "    </tr>\n",
       "    <tr>\n",
       "      <th>7</th>\n",
       "      <td>CharizardMega Charizard X</td>\n",
       "      <td>6</td>\n",
       "      <td>130</td>\n",
       "    </tr>\n",
       "    <tr>\n",
       "      <th>8</th>\n",
       "      <td>CharizardMega Charizard Y</td>\n",
       "      <td>6</td>\n",
       "      <td>104</td>\n",
       "    </tr>\n",
       "    <tr>\n",
       "      <th>9</th>\n",
       "      <td>Squirtle</td>\n",
       "      <td>7</td>\n",
       "      <td>48</td>\n",
       "    </tr>\n",
       "  </tbody>\n",
       "</table>\n",
       "</div>"
      ],
      "text/plain": [
       "                        name  rank  attack\n",
       "4                 Charmander     4      52\n",
       "5                 Charmeleon     5      64\n",
       "6                  Charizard     6      84\n",
       "7  CharizardMega Charizard X     6     130\n",
       "8  CharizardMega Charizard Y     6     104\n",
       "9                   Squirtle     7      48"
      ]
     },
     "execution_count": 14,
     "metadata": {},
     "output_type": "execute_result"
    }
   ],
   "source": [
    "\"\"\"\n",
    "rename columns name\n",
    "rankings_pd.rename(columns = {'test':'TEST', 'odi':'ODI',\n",
    "                              't20':'T20'}, inplace = True)\n",
    "\"\"\"\n",
    "df3.rename(columns={'Name':'name','#':'rank','Attack':'attack'},inplace=True)\n",
    "df3"
   ]
  },
  {
   "cell_type": "markdown",
   "id": "040a2f0a",
   "metadata": {},
   "source": [
    "### 實用"
   ]
  },
  {
   "cell_type": "code",
   "execution_count": 15,
   "id": "07d7b424",
   "metadata": {},
   "outputs": [
    {
     "data": {
      "text/html": [
       "<div>\n",
       "<style scoped>\n",
       "    .dataframe tbody tr th:only-of-type {\n",
       "        vertical-align: middle;\n",
       "    }\n",
       "\n",
       "    .dataframe tbody tr th {\n",
       "        vertical-align: top;\n",
       "    }\n",
       "\n",
       "    .dataframe thead th {\n",
       "        text-align: right;\n",
       "    }\n",
       "</style>\n",
       "<table border=\"1\" class=\"dataframe\">\n",
       "  <thead>\n",
       "    <tr style=\"text-align: right;\">\n",
       "      <th></th>\n",
       "      <th>#</th>\n",
       "      <th>Name</th>\n",
       "      <th>Defense</th>\n",
       "      <th>Type 1</th>\n",
       "    </tr>\n",
       "  </thead>\n",
       "  <tbody>\n",
       "    <tr>\n",
       "      <th>0</th>\n",
       "      <td>1</td>\n",
       "      <td>Bulbasaur</td>\n",
       "      <td>49</td>\n",
       "      <td>Grass</td>\n",
       "    </tr>\n",
       "    <tr>\n",
       "      <th>3</th>\n",
       "      <td>3</td>\n",
       "      <td>VenusaurMega Venusaur</td>\n",
       "      <td>123</td>\n",
       "      <td>Grass</td>\n",
       "    </tr>\n",
       "    <tr>\n",
       "      <th>6</th>\n",
       "      <td>6</td>\n",
       "      <td>Charizard</td>\n",
       "      <td>78</td>\n",
       "      <td>Fire</td>\n",
       "    </tr>\n",
       "    <tr>\n",
       "      <th>9</th>\n",
       "      <td>7</td>\n",
       "      <td>Squirtle</td>\n",
       "      <td>65</td>\n",
       "      <td>Water</td>\n",
       "    </tr>\n",
       "    <tr>\n",
       "      <th>12</th>\n",
       "      <td>9</td>\n",
       "      <td>BlastoiseMega Blastoise</td>\n",
       "      <td>120</td>\n",
       "      <td>Water</td>\n",
       "    </tr>\n",
       "  </tbody>\n",
       "</table>\n",
       "</div>"
      ],
      "text/plain": [
       "    #                     Name  Defense Type 1\n",
       "0   1                Bulbasaur       49  Grass\n",
       "3   3    VenusaurMega Venusaur      123  Grass\n",
       "6   6                Charizard       78   Fire\n",
       "9   7                 Squirtle       65  Water\n",
       "12  9  BlastoiseMega Blastoise      120  Water"
      ]
     },
     "execution_count": 15,
     "metadata": {},
     "output_type": "execute_result"
    }
   ],
   "source": [
    "\"\"\"\n",
    "range in row, +head(x) sample check\n",
    "\"\"\"\n",
    "df1.loc[range(0,len(df1),3),['#','Name','Defense','Type 1']].head(5)\n"
   ]
  },
  {
   "cell_type": "markdown",
   "id": "9b21388b",
   "metadata": {},
   "source": [
    "# 3.1.2 where clause"
   ]
  },
  {
   "cell_type": "raw",
   "id": "5419e9db",
   "metadata": {},
   "source": [
    "from txt book,may not be applicable\n",
    "as it is query just a view, cannot directly as to a new df\n",
    "1.df[\"age\"] > (40 & df[\"country\"]) == \"USA\"\n",
    "2.df.loc[df.index > 1001, :]\n",
    "3.df.loc[df[\"country\"].isin([\"Italy\", \"Germany\"]), :]\n",
    "4.rainfall[rainfall < 400]"
   ]
  },
  {
   "cell_type": "code",
   "execution_count": 22,
   "id": "f0d3fe54",
   "metadata": {},
   "outputs": [
    {
     "data": {
      "text/plain": [
       "['Grass',\n",
       " 'Fire',\n",
       " 'Water',\n",
       " 'Bug',\n",
       " 'Normal',\n",
       " 'Poison',\n",
       " 'Electric',\n",
       " 'Ground',\n",
       " 'Fairy',\n",
       " 'Fighting',\n",
       " 'Psychic',\n",
       " 'Rock',\n",
       " 'Ghost',\n",
       " 'Ice',\n",
       " 'Dragon',\n",
       " 'Dark',\n",
       " 'Steel',\n",
       " 'Flying']"
      ]
     },
     "execution_count": 22,
     "metadata": {},
     "output_type": "execute_result"
    }
   ],
   "source": [
    "\"\"\"\n",
    "1.select distinct value of a col\n",
    "2. test where syntax\n",
    "\"\"\"\n",
    "df1['Type 1'].unique()\n",
    "df1['Type 1'].unique().tolist()"
   ]
  },
  {
   "cell_type": "code",
   "execution_count": null,
   "id": "f00a4bfc",
   "metadata": {},
   "outputs": [],
   "source": [
    "\"\"\"\n",
    "1.isin() is a method \n",
    "df.['col_name'].isin(['x','y'])\n",
    "\n",
    "2.not in :add a ~ (目前唯一not in 方法)\n",
    "~df.['col_name'].isin(['x','y'])\n",
    "\"\"\""
   ]
  },
  {
   "cell_type": "code",
   "execution_count": 26,
   "id": "921b48aa",
   "metadata": {},
   "outputs": [
    {
     "data": {
      "text/html": [
       "<div>\n",
       "<style scoped>\n",
       "    .dataframe tbody tr th:only-of-type {\n",
       "        vertical-align: middle;\n",
       "    }\n",
       "\n",
       "    .dataframe tbody tr th {\n",
       "        vertical-align: top;\n",
       "    }\n",
       "\n",
       "    .dataframe thead th {\n",
       "        text-align: right;\n",
       "    }\n",
       "</style>\n",
       "<table border=\"1\" class=\"dataframe\">\n",
       "  <thead>\n",
       "    <tr style=\"text-align: right;\">\n",
       "      <th></th>\n",
       "      <th>#</th>\n",
       "      <th>Name</th>\n",
       "      <th>Type 1</th>\n",
       "      <th>Type 2</th>\n",
       "      <th>HP</th>\n",
       "      <th>Attack</th>\n",
       "      <th>Defense</th>\n",
       "      <th>Sp. Atk</th>\n",
       "      <th>Sp. Def</th>\n",
       "      <th>Speed</th>\n",
       "      <th>Generation</th>\n",
       "      <th>Legendary</th>\n",
       "    </tr>\n",
       "  </thead>\n",
       "  <tbody>\n",
       "    <tr>\n",
       "      <th>0</th>\n",
       "      <td>1</td>\n",
       "      <td>Bulbasaur</td>\n",
       "      <td>Grass</td>\n",
       "      <td>Poison</td>\n",
       "      <td>45</td>\n",
       "      <td>49</td>\n",
       "      <td>49</td>\n",
       "      <td>65</td>\n",
       "      <td>65</td>\n",
       "      <td>45</td>\n",
       "      <td>1</td>\n",
       "      <td>False</td>\n",
       "    </tr>\n",
       "    <tr>\n",
       "      <th>1</th>\n",
       "      <td>2</td>\n",
       "      <td>Ivysaur</td>\n",
       "      <td>Grass</td>\n",
       "      <td>Poison</td>\n",
       "      <td>60</td>\n",
       "      <td>62</td>\n",
       "      <td>63</td>\n",
       "      <td>80</td>\n",
       "      <td>80</td>\n",
       "      <td>60</td>\n",
       "      <td>1</td>\n",
       "      <td>False</td>\n",
       "    </tr>\n",
       "  </tbody>\n",
       "</table>\n",
       "</div>"
      ],
      "text/plain": [
       "   #       Name Type 1  Type 2  HP  Attack  Defense  Sp. Atk  Sp. Def  Speed  \\\n",
       "0  1  Bulbasaur  Grass  Poison  45      49       49       65       65     45   \n",
       "1  2    Ivysaur  Grass  Poison  60      62       63       80       80     60   \n",
       "\n",
       "   Generation  Legendary  \n",
       "0           1      False  \n",
       "1           1      False  "
      ]
     },
     "execution_count": 26,
     "metadata": {},
     "output_type": "execute_result"
    }
   ],
   "source": [
    "#df1.loc[df1['Type 1']=='Fire'].head(2) \n",
    "df1.loc[df1['Type 1'].isin(['Grass','Fire'])].head(2) \n"
   ]
  },
  {
   "cell_type": "code",
   "execution_count": 32,
   "id": "952982eb",
   "metadata": {},
   "outputs": [
    {
     "data": {
      "text/html": [
       "<div>\n",
       "<style scoped>\n",
       "    .dataframe tbody tr th:only-of-type {\n",
       "        vertical-align: middle;\n",
       "    }\n",
       "\n",
       "    .dataframe tbody tr th {\n",
       "        vertical-align: top;\n",
       "    }\n",
       "\n",
       "    .dataframe thead th {\n",
       "        text-align: right;\n",
       "    }\n",
       "</style>\n",
       "<table border=\"1\" class=\"dataframe\">\n",
       "  <thead>\n",
       "    <tr style=\"text-align: right;\">\n",
       "      <th></th>\n",
       "      <th>#</th>\n",
       "      <th>Name</th>\n",
       "      <th>Type 1</th>\n",
       "      <th>Type 2</th>\n",
       "      <th>HP</th>\n",
       "      <th>Attack</th>\n",
       "      <th>Defense</th>\n",
       "      <th>Sp. Atk</th>\n",
       "      <th>Sp. Def</th>\n",
       "      <th>Speed</th>\n",
       "      <th>Generation</th>\n",
       "      <th>Legendary</th>\n",
       "    </tr>\n",
       "  </thead>\n",
       "  <tbody>\n",
       "    <tr>\n",
       "      <th>797</th>\n",
       "      <td>720</td>\n",
       "      <td>HoopaHoopa Confined</td>\n",
       "      <td>Psychic</td>\n",
       "      <td>Ghost</td>\n",
       "      <td>80</td>\n",
       "      <td>110</td>\n",
       "      <td>60</td>\n",
       "      <td>150</td>\n",
       "      <td>130</td>\n",
       "      <td>70</td>\n",
       "      <td>6</td>\n",
       "      <td>True</td>\n",
       "    </tr>\n",
       "    <tr>\n",
       "      <th>798</th>\n",
       "      <td>720</td>\n",
       "      <td>HoopaHoopa Unbound</td>\n",
       "      <td>Psychic</td>\n",
       "      <td>Dark</td>\n",
       "      <td>80</td>\n",
       "      <td>160</td>\n",
       "      <td>60</td>\n",
       "      <td>170</td>\n",
       "      <td>130</td>\n",
       "      <td>80</td>\n",
       "      <td>6</td>\n",
       "      <td>True</td>\n",
       "    </tr>\n",
       "  </tbody>\n",
       "</table>\n",
       "</div>"
      ],
      "text/plain": [
       "       #                 Name   Type 1 Type 2  HP  Attack  Defense  Sp. Atk  \\\n",
       "797  720  HoopaHoopa Confined  Psychic  Ghost  80     110       60      150   \n",
       "798  720   HoopaHoopa Unbound  Psychic   Dark  80     160       60      170   \n",
       "\n",
       "     Sp. Def  Speed  Generation  Legendary  \n",
       "797      130     70           6       True  \n",
       "798      130     80           6       True  "
      ]
     },
     "execution_count": 32,
     "metadata": {},
     "output_type": "execute_result"
    }
   ],
   "source": [
    "df1.loc[~df1['Type 1'].isin(['Grass','Fire'])].tail(2)"
   ]
  },
  {
   "cell_type": "code",
   "execution_count": 38,
   "id": "e3c77c58",
   "metadata": {},
   "outputs": [
    {
     "data": {
      "text/plain": [
       "#    122\n",
       "dtype: int64"
      ]
     },
     "execution_count": 38,
     "metadata": {},
     "output_type": "execute_result"
    }
   ],
   "source": [
    "\"\"\"\n",
    "count number of matched rows\n",
    "1.use chainning methods\n",
    "xxx.count()\n",
    "\"\"\"\n",
    "df1.loc[df1['Type 1'].isin(['Grass','Fire'])].count().head(1)"
   ]
  },
  {
   "cell_type": "code",
   "execution_count": 50,
   "id": "6ffa3fb2",
   "metadata": {},
   "outputs": [
    {
     "data": {
      "text/html": [
       "<div>\n",
       "<style scoped>\n",
       "    .dataframe tbody tr th:only-of-type {\n",
       "        vertical-align: middle;\n",
       "    }\n",
       "\n",
       "    .dataframe tbody tr th {\n",
       "        vertical-align: top;\n",
       "    }\n",
       "\n",
       "    .dataframe thead th {\n",
       "        text-align: right;\n",
       "    }\n",
       "</style>\n",
       "<table border=\"1\" class=\"dataframe\">\n",
       "  <thead>\n",
       "    <tr style=\"text-align: right;\">\n",
       "      <th></th>\n",
       "      <th>#</th>\n",
       "      <th>Name</th>\n",
       "    </tr>\n",
       "  </thead>\n",
       "  <tbody>\n",
       "    <tr>\n",
       "      <th>2</th>\n",
       "      <td>3</td>\n",
       "      <td>Venusaur</td>\n",
       "    </tr>\n",
       "    <tr>\n",
       "      <th>3</th>\n",
       "      <td>3</td>\n",
       "      <td>VenusaurMega Venusaur</td>\n",
       "    </tr>\n",
       "    <tr>\n",
       "      <th>4</th>\n",
       "      <td>4</td>\n",
       "      <td>Charmander</td>\n",
       "    </tr>\n",
       "  </tbody>\n",
       "</table>\n",
       "</div>"
      ],
      "text/plain": [
       "   #                   Name\n",
       "2  3               Venusaur\n",
       "3  3  VenusaurMega Venusaur\n",
       "4  4             Charmander"
      ]
     },
     "execution_count": 50,
     "metadata": {},
     "output_type": "execute_result"
    }
   ],
   "source": [
    "df1.loc[2:10,['#','Name']].head(3)\n"
   ]
  },
  {
   "cell_type": "code",
   "execution_count": 53,
   "id": "468deb18",
   "metadata": {},
   "outputs": [
    {
     "data": {
      "text/plain": [
       "#         122\n",
       "Name      122\n",
       "Attack    122\n",
       "dtype: int64"
      ]
     },
     "execution_count": 53,
     "metadata": {},
     "output_type": "execute_result"
    }
   ],
   "source": [
    "\"\"\"\n",
    "Try:\n",
    "after where condition,select partial column\n",
    "\n",
    "df[row_select,col_select]\n",
    "=df[where,['col_1','col_2']]\n",
    "\"\"\"\n",
    "\n",
    "df1.loc[df1['Type 1'].isin(['Grass','Fire']),['#','Name','Attack']].count()"
   ]
  },
  {
   "cell_type": "code",
   "execution_count": null,
   "id": "54b6584e",
   "metadata": {},
   "outputs": [],
   "source": [
    "\"\"\"\n",
    "Multi-where condition\n",
    "df1.loc[()&(),['col_1','col_2']]\n",
    "\n",
    "#page 98\n",
    "tf = (df2[\"age\"] < 20) | (df2[\"country\"] == \"USA\")\n",
    "df2.loc[tf, \"name\"] = \"xxx\"\n",
    "df2\n",
    "\"\"\""
   ]
  },
  {
   "cell_type": "code",
   "execution_count": 59,
   "id": "6023d4a3",
   "metadata": {},
   "outputs": [
    {
     "data": {
      "text/html": [
       "<div>\n",
       "<style scoped>\n",
       "    .dataframe tbody tr th:only-of-type {\n",
       "        vertical-align: middle;\n",
       "    }\n",
       "\n",
       "    .dataframe tbody tr th {\n",
       "        vertical-align: top;\n",
       "    }\n",
       "\n",
       "    .dataframe thead th {\n",
       "        text-align: right;\n",
       "    }\n",
       "</style>\n",
       "<table border=\"1\" class=\"dataframe\">\n",
       "  <thead>\n",
       "    <tr style=\"text-align: right;\">\n",
       "      <th></th>\n",
       "      <th>#</th>\n",
       "      <th>Name</th>\n",
       "      <th>Attack</th>\n",
       "    </tr>\n",
       "  </thead>\n",
       "  <tbody>\n",
       "    <tr>\n",
       "      <th>559</th>\n",
       "      <td>500</td>\n",
       "      <td>Emboar</td>\n",
       "      <td>123</td>\n",
       "    </tr>\n",
       "    <tr>\n",
       "      <th>615</th>\n",
       "      <td>555</td>\n",
       "      <td>DarmanitanStandard Mode</td>\n",
       "      <td>140</td>\n",
       "    </tr>\n",
       "    <tr>\n",
       "      <th>799</th>\n",
       "      <td>721</td>\n",
       "      <td>Volcanion</td>\n",
       "      <td>110</td>\n",
       "    </tr>\n",
       "  </tbody>\n",
       "</table>\n",
       "</div>"
      ],
      "text/plain": [
       "       #                     Name  Attack\n",
       "559  500                   Emboar     123\n",
       "615  555  DarmanitanStandard Mode     140\n",
       "799  721                Volcanion     110"
      ]
     },
     "execution_count": 59,
     "metadata": {},
     "output_type": "execute_result"
    }
   ],
   "source": [
    "df1.loc[(df1['Type 1']=='Fire') & (df1[\"Attack\"]>100),[\"#\",\"Name\",\"Attack\"]].tail(3)"
   ]
  },
  {
   "cell_type": "markdown",
   "id": "6221f26c",
   "metadata": {},
   "source": [
    "## 3.2 DDL"
   ]
  },
  {
   "cell_type": "raw",
   "id": "5c66204d",
   "metadata": {},
   "source": [
    "1.add a new col\n",
    "use by +/-/sum existing columns\n",
    "\n",
    "2.replace NaN value\n",
    "  before it need to query NaN first\n",
    "  a)drop any col has NaN\n",
    "  b)drop whole NaN value records\n",
    "  \n",
    "3.find dupliacte records in partial cols\n",
    "\n",
    "4.delete columns + records"
   ]
  },
  {
   "cell_type": "code",
   "execution_count": 1,
   "id": "cfb74cff",
   "metadata": {},
   "outputs": [
    {
     "data": {
      "text/html": [
       "<div>\n",
       "<style scoped>\n",
       "    .dataframe tbody tr th:only-of-type {\n",
       "        vertical-align: middle;\n",
       "    }\n",
       "\n",
       "    .dataframe tbody tr th {\n",
       "        vertical-align: top;\n",
       "    }\n",
       "\n",
       "    .dataframe thead th {\n",
       "        text-align: right;\n",
       "    }\n",
       "</style>\n",
       "<table border=\"1\" class=\"dataframe\">\n",
       "  <thead>\n",
       "    <tr style=\"text-align: right;\">\n",
       "      <th></th>\n",
       "      <th>#</th>\n",
       "      <th>Name</th>\n",
       "      <th>Type 1</th>\n",
       "      <th>Type 2</th>\n",
       "      <th>HP</th>\n",
       "      <th>Attack</th>\n",
       "      <th>Defense</th>\n",
       "      <th>Sp. Atk</th>\n",
       "      <th>Sp. Def</th>\n",
       "      <th>Speed</th>\n",
       "      <th>Generation</th>\n",
       "      <th>Legendary</th>\n",
       "    </tr>\n",
       "  </thead>\n",
       "  <tbody>\n",
       "    <tr>\n",
       "      <th>0</th>\n",
       "      <td>1</td>\n",
       "      <td>Bulbasaur</td>\n",
       "      <td>Grass</td>\n",
       "      <td>Poison</td>\n",
       "      <td>45</td>\n",
       "      <td>49</td>\n",
       "      <td>49</td>\n",
       "      <td>65</td>\n",
       "      <td>65</td>\n",
       "      <td>45</td>\n",
       "      <td>1</td>\n",
       "      <td>False</td>\n",
       "    </tr>\n",
       "    <tr>\n",
       "      <th>1</th>\n",
       "      <td>2</td>\n",
       "      <td>Ivysaur</td>\n",
       "      <td>Grass</td>\n",
       "      <td>Poison</td>\n",
       "      <td>60</td>\n",
       "      <td>62</td>\n",
       "      <td>63</td>\n",
       "      <td>80</td>\n",
       "      <td>80</td>\n",
       "      <td>60</td>\n",
       "      <td>1</td>\n",
       "      <td>False</td>\n",
       "    </tr>\n",
       "    <tr>\n",
       "      <th>2</th>\n",
       "      <td>3</td>\n",
       "      <td>Venusaur</td>\n",
       "      <td>Grass</td>\n",
       "      <td>Poison</td>\n",
       "      <td>80</td>\n",
       "      <td>82</td>\n",
       "      <td>83</td>\n",
       "      <td>100</td>\n",
       "      <td>100</td>\n",
       "      <td>80</td>\n",
       "      <td>1</td>\n",
       "      <td>False</td>\n",
       "    </tr>\n",
       "    <tr>\n",
       "      <th>3</th>\n",
       "      <td>3</td>\n",
       "      <td>VenusaurMega Venusaur</td>\n",
       "      <td>Grass</td>\n",
       "      <td>Poison</td>\n",
       "      <td>80</td>\n",
       "      <td>100</td>\n",
       "      <td>123</td>\n",
       "      <td>122</td>\n",
       "      <td>120</td>\n",
       "      <td>80</td>\n",
       "      <td>1</td>\n",
       "      <td>False</td>\n",
       "    </tr>\n",
       "  </tbody>\n",
       "</table>\n",
       "</div>"
      ],
      "text/plain": [
       "   #                   Name Type 1  Type 2  HP  Attack  Defense  Sp. Atk  \\\n",
       "0  1              Bulbasaur  Grass  Poison  45      49       49       65   \n",
       "1  2                Ivysaur  Grass  Poison  60      62       63       80   \n",
       "2  3               Venusaur  Grass  Poison  80      82       83      100   \n",
       "3  3  VenusaurMega Venusaur  Grass  Poison  80     100      123      122   \n",
       "\n",
       "   Sp. Def  Speed  Generation  Legendary  \n",
       "0       65     45           1      False  \n",
       "1       80     60           1      False  \n",
       "2      100     80           1      False  \n",
       "3      120     80           1      False  "
      ]
     },
     "execution_count": 1,
     "metadata": {},
     "output_type": "execute_result"
    }
   ],
   "source": [
    "import pandas as pd\n",
    "df1=pd.read_csv(r'C:\\Users\\fengs\\Desktop\\py_project\\csv_file\\pokemon_data.csv')\n",
    "df1.head(4)"
   ]
  },
  {
   "cell_type": "code",
   "execution_count": 4,
   "id": "60eef8be",
   "metadata": {},
   "outputs": [
    {
     "data": {
      "text/html": [
       "<div>\n",
       "<style scoped>\n",
       "    .dataframe tbody tr th:only-of-type {\n",
       "        vertical-align: middle;\n",
       "    }\n",
       "\n",
       "    .dataframe tbody tr th {\n",
       "        vertical-align: top;\n",
       "    }\n",
       "\n",
       "    .dataframe thead th {\n",
       "        text-align: right;\n",
       "    }\n",
       "</style>\n",
       "<table border=\"1\" class=\"dataframe\">\n",
       "  <thead>\n",
       "    <tr style=\"text-align: right;\">\n",
       "      <th></th>\n",
       "      <th>#</th>\n",
       "      <th>Name</th>\n",
       "      <th>Type 1</th>\n",
       "      <th>Attack</th>\n",
       "      <th>Defense</th>\n",
       "    </tr>\n",
       "  </thead>\n",
       "  <tbody>\n",
       "    <tr>\n",
       "      <th>797</th>\n",
       "      <td>720</td>\n",
       "      <td>HoopaHoopa Confined</td>\n",
       "      <td>Psychic</td>\n",
       "      <td>110</td>\n",
       "      <td>60</td>\n",
       "    </tr>\n",
       "    <tr>\n",
       "      <th>798</th>\n",
       "      <td>720</td>\n",
       "      <td>HoopaHoopa Unbound</td>\n",
       "      <td>Psychic</td>\n",
       "      <td>160</td>\n",
       "      <td>60</td>\n",
       "    </tr>\n",
       "    <tr>\n",
       "      <th>799</th>\n",
       "      <td>721</td>\n",
       "      <td>Volcanion</td>\n",
       "      <td>Fire</td>\n",
       "      <td>110</td>\n",
       "      <td>120</td>\n",
       "    </tr>\n",
       "  </tbody>\n",
       "</table>\n",
       "</div>"
      ],
      "text/plain": [
       "       #                 Name   Type 1  Attack  Defense\n",
       "797  720  HoopaHoopa Confined  Psychic     110       60\n",
       "798  720   HoopaHoopa Unbound  Psychic     160       60\n",
       "799  721            Volcanion     Fire     110      120"
      ]
     },
     "execution_count": 4,
     "metadata": {},
     "output_type": "execute_result"
    }
   ],
   "source": [
    "df4=df1.loc[:,[\"#\",'Name','Type 1','Attack','Defense']]\n",
    "df4.tail(3)"
   ]
  },
  {
   "cell_type": "code",
   "execution_count": 13,
   "id": "2cd7f5e7",
   "metadata": {},
   "outputs": [
    {
     "name": "stdout",
     "output_type": "stream",
     "text": [
      "Index(['#', 'Name', 'Type 1', 'Attack', 'Defense'], dtype='object')\n",
      "['#', 'Name', 'Type 1', 'Attack', 'Defense']\n",
      "\n",
      "Index(['number', 'name', 'type', 'Attack', 'Defense'], dtype='object')\n"
     ]
    }
   ],
   "source": [
    "\"\"\"\n",
    "Rename functoin \n",
    "df.rename(columns{'old':'new'},inplace=True)\n",
    "\"\"\"\n",
    "\n",
    "print(df4.columns)\n",
    "print(list(df4.columns))\n",
    "print()\n",
    "\n",
    "df4.rename(columns={'Name':'name','#':'number','Type 1':'type'},inplace=True)\n",
    "print(df4.columns)"
   ]
  },
  {
   "cell_type": "markdown",
   "id": "f07f8d06",
   "metadata": {},
   "source": [
    "### 3.2.1 add/delete a column "
   ]
  },
  {
   "cell_type": "code",
   "execution_count": 14,
   "id": "08c8f240",
   "metadata": {},
   "outputs": [
    {
     "data": {
      "text/html": [
       "<div>\n",
       "<style scoped>\n",
       "    .dataframe tbody tr th:only-of-type {\n",
       "        vertical-align: middle;\n",
       "    }\n",
       "\n",
       "    .dataframe tbody tr th {\n",
       "        vertical-align: top;\n",
       "    }\n",
       "\n",
       "    .dataframe thead th {\n",
       "        text-align: right;\n",
       "    }\n",
       "</style>\n",
       "<table border=\"1\" class=\"dataframe\">\n",
       "  <thead>\n",
       "    <tr style=\"text-align: right;\">\n",
       "      <th></th>\n",
       "      <th>number</th>\n",
       "      <th>name</th>\n",
       "      <th>type</th>\n",
       "      <th>Attack</th>\n",
       "      <th>Defense</th>\n",
       "      <th>Test</th>\n",
       "    </tr>\n",
       "  </thead>\n",
       "  <tbody>\n",
       "    <tr>\n",
       "      <th>0</th>\n",
       "      <td>1</td>\n",
       "      <td>Bulbasaur</td>\n",
       "      <td>Grass</td>\n",
       "      <td>49</td>\n",
       "      <td>49</td>\n",
       "      <td>testxx</td>\n",
       "    </tr>\n",
       "    <tr>\n",
       "      <th>1</th>\n",
       "      <td>2</td>\n",
       "      <td>Ivysaur</td>\n",
       "      <td>Grass</td>\n",
       "      <td>62</td>\n",
       "      <td>63</td>\n",
       "      <td>testxx</td>\n",
       "    </tr>\n",
       "    <tr>\n",
       "      <th>2</th>\n",
       "      <td>3</td>\n",
       "      <td>Venusaur</td>\n",
       "      <td>Grass</td>\n",
       "      <td>82</td>\n",
       "      <td>83</td>\n",
       "      <td>testxx</td>\n",
       "    </tr>\n",
       "  </tbody>\n",
       "</table>\n",
       "</div>"
      ],
      "text/plain": [
       "   number       name   type  Attack  Defense    Test\n",
       "0       1  Bulbasaur  Grass      49       49  testxx\n",
       "1       2    Ivysaur  Grass      62       63  testxx\n",
       "2       3   Venusaur  Grass      82       83  testxx"
      ]
     },
     "execution_count": 14,
     "metadata": {},
     "output_type": "execute_result"
    }
   ],
   "source": [
    "\"\"\"\n",
    "add col to a df, can assign a vlaue to a new\n",
    "column name\n",
    "\"\"\"\n",
    "df4['Test']='testxx'\n",
    "df4.head(3)"
   ]
  },
  {
   "cell_type": "code",
   "execution_count": 15,
   "id": "4c36fdbf",
   "metadata": {},
   "outputs": [
    {
     "data": {
      "text/html": [
       "<div>\n",
       "<style scoped>\n",
       "    .dataframe tbody tr th:only-of-type {\n",
       "        vertical-align: middle;\n",
       "    }\n",
       "\n",
       "    .dataframe tbody tr th {\n",
       "        vertical-align: top;\n",
       "    }\n",
       "\n",
       "    .dataframe thead th {\n",
       "        text-align: right;\n",
       "    }\n",
       "</style>\n",
       "<table border=\"1\" class=\"dataframe\">\n",
       "  <thead>\n",
       "    <tr style=\"text-align: right;\">\n",
       "      <th></th>\n",
       "      <th>number</th>\n",
       "      <th>name</th>\n",
       "      <th>type</th>\n",
       "      <th>Attack</th>\n",
       "      <th>Defense</th>\n",
       "      <th>Test</th>\n",
       "      <th>diff</th>\n",
       "    </tr>\n",
       "  </thead>\n",
       "  <tbody>\n",
       "    <tr>\n",
       "      <th>0</th>\n",
       "      <td>1</td>\n",
       "      <td>Bulbasaur</td>\n",
       "      <td>Grass</td>\n",
       "      <td>49</td>\n",
       "      <td>49</td>\n",
       "      <td>testxx</td>\n",
       "      <td>0</td>\n",
       "    </tr>\n",
       "    <tr>\n",
       "      <th>1</th>\n",
       "      <td>2</td>\n",
       "      <td>Ivysaur</td>\n",
       "      <td>Grass</td>\n",
       "      <td>62</td>\n",
       "      <td>63</td>\n",
       "      <td>testxx</td>\n",
       "      <td>-1</td>\n",
       "    </tr>\n",
       "    <tr>\n",
       "      <th>2</th>\n",
       "      <td>3</td>\n",
       "      <td>Venusaur</td>\n",
       "      <td>Grass</td>\n",
       "      <td>82</td>\n",
       "      <td>83</td>\n",
       "      <td>testxx</td>\n",
       "      <td>-1</td>\n",
       "    </tr>\n",
       "  </tbody>\n",
       "</table>\n",
       "</div>"
      ],
      "text/plain": [
       "   number       name   type  Attack  Defense    Test  diff\n",
       "0       1  Bulbasaur  Grass      49       49  testxx     0\n",
       "1       2    Ivysaur  Grass      62       63  testxx    -1\n",
       "2       3   Venusaur  Grass      82       83  testxx    -1"
      ]
     },
     "execution_count": 15,
     "metadata": {},
     "output_type": "execute_result"
    }
   ],
   "source": [
    "df4['diff']=df4['Attack']-df4['Defense']\n",
    "df4.head(3)"
   ]
  },
  {
   "cell_type": "code",
   "execution_count": 19,
   "id": "271d5dc8",
   "metadata": {},
   "outputs": [
    {
     "data": {
      "text/html": [
       "<div>\n",
       "<style scoped>\n",
       "    .dataframe tbody tr th:only-of-type {\n",
       "        vertical-align: middle;\n",
       "    }\n",
       "\n",
       "    .dataframe tbody tr th {\n",
       "        vertical-align: top;\n",
       "    }\n",
       "\n",
       "    .dataframe thead th {\n",
       "        text-align: right;\n",
       "    }\n",
       "</style>\n",
       "<table border=\"1\" class=\"dataframe\">\n",
       "  <thead>\n",
       "    <tr style=\"text-align: right;\">\n",
       "      <th></th>\n",
       "      <th>number</th>\n",
       "      <th>name</th>\n",
       "      <th>type</th>\n",
       "      <th>Attack</th>\n",
       "      <th>Defense</th>\n",
       "    </tr>\n",
       "  </thead>\n",
       "  <tbody>\n",
       "    <tr>\n",
       "      <th>0</th>\n",
       "      <td>1</td>\n",
       "      <td>Bulbasaur</td>\n",
       "      <td>Grass</td>\n",
       "      <td>49</td>\n",
       "      <td>49</td>\n",
       "    </tr>\n",
       "    <tr>\n",
       "      <th>1</th>\n",
       "      <td>2</td>\n",
       "      <td>Ivysaur</td>\n",
       "      <td>Grass</td>\n",
       "      <td>62</td>\n",
       "      <td>63</td>\n",
       "    </tr>\n",
       "    <tr>\n",
       "      <th>2</th>\n",
       "      <td>3</td>\n",
       "      <td>Venusaur</td>\n",
       "      <td>Grass</td>\n",
       "      <td>82</td>\n",
       "      <td>83</td>\n",
       "    </tr>\n",
       "  </tbody>\n",
       "</table>\n",
       "</div>"
      ],
      "text/plain": [
       "   number       name   type  Attack  Defense\n",
       "0       1  Bulbasaur  Grass      49       49\n",
       "1       2    Ivysaur  Grass      62       63\n",
       "2       3   Venusaur  Grass      82       83"
      ]
     },
     "execution_count": 19,
     "metadata": {},
     "output_type": "execute_result"
    }
   ],
   "source": [
    "\"\"\"\n",
    "drop a column use df.drop()\n",
    "axis可以用='rows'/'columns' 來replace 1,0\n",
    "而且要加 inplace=True, execute instantly\n",
    "\"\"\"\n",
    "\n",
    "df4.drop(['Test','diff'],axis='columns',inplace=True)\n",
    "df4.head(3)"
   ]
  },
  {
   "cell_type": "markdown",
   "id": "dca422dd",
   "metadata": {},
   "source": [
    "### 3.2.2 groupby ()"
   ]
  },
  {
   "cell_type": "raw",
   "id": "2b4330ec",
   "metadata": {},
   "source": [
    "額外"
   ]
  },
  {
   "cell_type": "code",
   "execution_count": null,
   "id": "60c068e5",
   "metadata": {},
   "outputs": [],
   "source": [
    "\"\"\"\n",
    "1.df4.dropna()\n",
    "any columns value has NaN\n",
    "\n",
    "2.df4.dropna(how='all')\n",
    "指定syntax, all columns are NaN\n",
    "\"\"\""
   ]
  },
  {
   "cell_type": "code",
   "execution_count": 22,
   "id": "2a478e9b",
   "metadata": {},
   "outputs": [
    {
     "ename": "AttributeError",
     "evalue": "'DataFrame' object has no attribute 'average'",
     "output_type": "error",
     "traceback": [
      "\u001b[1;31m---------------------------------------------------------------------------\u001b[0m",
      "\u001b[1;31mAttributeError\u001b[0m                            Traceback (most recent call last)",
      "\u001b[1;32m~\\AppData\\Local\\Temp/ipykernel_2508/3454226980.py\u001b[0m in \u001b[0;36m<module>\u001b[1;34m\u001b[0m\n\u001b[0;32m      3\u001b[0m \u001b[0mmean\u001b[0m\u001b[1;33m(\u001b[0m\u001b[1;33m)\u001b[0m\u001b[1;33m,\u001b[0m\u001b[0mquatile\u001b[0m\u001b[1;33m(\u001b[0m\u001b[1;33m)\u001b[0m\u001b[1;33m,\u001b[0m\u001b[0maverage\u001b[0m\u001b[1;33m(\u001b[0m\u001b[1;33m)\u001b[0m\u001b[1;33m\u001b[0m\u001b[1;33m\u001b[0m\u001b[0m\n\u001b[0;32m      4\u001b[0m \"\"\"\n\u001b[1;32m----> 5\u001b[1;33m \u001b[0mdf4\u001b[0m\u001b[1;33m.\u001b[0m\u001b[0mloc\u001b[0m\u001b[1;33m[\u001b[0m\u001b[1;33m:\u001b[0m\u001b[1;33m,\u001b[0m\u001b[1;33m[\u001b[0m\u001b[1;34m'name'\u001b[0m\u001b[1;33m,\u001b[0m\u001b[1;34m'number'\u001b[0m\u001b[1;33m,\u001b[0m\u001b[1;34m'Attack'\u001b[0m\u001b[1;33m]\u001b[0m\u001b[1;33m]\u001b[0m\u001b[1;33m.\u001b[0m\u001b[0maverage\u001b[0m\u001b[1;33m(\u001b[0m\u001b[1;33m)\u001b[0m\u001b[1;33m\u001b[0m\u001b[1;33m\u001b[0m\u001b[0m\n\u001b[0m",
      "\u001b[1;32m~\\anaconda3\\lib\\site-packages\\pandas\\core\\generic.py\u001b[0m in \u001b[0;36m__getattr__\u001b[1;34m(self, name)\u001b[0m\n\u001b[0;32m   5485\u001b[0m         ):\n\u001b[0;32m   5486\u001b[0m             \u001b[1;32mreturn\u001b[0m \u001b[0mself\u001b[0m\u001b[1;33m[\u001b[0m\u001b[0mname\u001b[0m\u001b[1;33m]\u001b[0m\u001b[1;33m\u001b[0m\u001b[1;33m\u001b[0m\u001b[0m\n\u001b[1;32m-> 5487\u001b[1;33m         \u001b[1;32mreturn\u001b[0m \u001b[0mobject\u001b[0m\u001b[1;33m.\u001b[0m\u001b[0m__getattribute__\u001b[0m\u001b[1;33m(\u001b[0m\u001b[0mself\u001b[0m\u001b[1;33m,\u001b[0m \u001b[0mname\u001b[0m\u001b[1;33m)\u001b[0m\u001b[1;33m\u001b[0m\u001b[1;33m\u001b[0m\u001b[0m\n\u001b[0m\u001b[0;32m   5488\u001b[0m \u001b[1;33m\u001b[0m\u001b[0m\n\u001b[0;32m   5489\u001b[0m     \u001b[1;32mdef\u001b[0m \u001b[0m__setattr__\u001b[0m\u001b[1;33m(\u001b[0m\u001b[0mself\u001b[0m\u001b[1;33m,\u001b[0m \u001b[0mname\u001b[0m\u001b[1;33m:\u001b[0m \u001b[0mstr\u001b[0m\u001b[1;33m,\u001b[0m \u001b[0mvalue\u001b[0m\u001b[1;33m)\u001b[0m \u001b[1;33m->\u001b[0m \u001b[1;32mNone\u001b[0m\u001b[1;33m:\u001b[0m\u001b[1;33m\u001b[0m\u001b[1;33m\u001b[0m\u001b[0m\n",
      "\u001b[1;31mAttributeError\u001b[0m: 'DataFrame' object has no attribute 'average'"
     ]
    }
   ],
   "source": [
    "\"\"\"\n",
    "basic statistic methods.\n",
    "mean(),quatile(),average()\n",
    "\"\"\"\n",
    "df4.loc[:,['name','number','Attack']].average()\n"
   ]
  },
  {
   "cell_type": "code",
   "execution_count": 24,
   "id": "230a44c0",
   "metadata": {},
   "outputs": [
    {
     "data": {
      "text/plain": [
       "'C:\\\\Users\\\\fengs'"
      ]
     },
     "execution_count": 24,
     "metadata": {},
     "output_type": "execute_result"
    }
   ],
   "source": [
    "\"\"\"\n",
    "find current file path\n",
    "\"\"\"\n",
    "import os\n",
    "os.getcwd()"
   ]
  },
  {
   "cell_type": "code",
   "execution_count": null,
   "id": "9859a8ec",
   "metadata": {},
   "outputs": [],
   "source": []
  }
 ],
 "metadata": {
  "kernelspec": {
   "display_name": "Python 3 (ipykernel)",
   "language": "python",
   "name": "python3"
  },
  "language_info": {
   "codemirror_mode": {
    "name": "ipython",
    "version": 3
   },
   "file_extension": ".py",
   "mimetype": "text/x-python",
   "name": "python",
   "nbconvert_exporter": "python",
   "pygments_lexer": "ipython3",
   "version": "3.9.7"
  }
 },
 "nbformat": 4,
 "nbformat_minor": 5
}
